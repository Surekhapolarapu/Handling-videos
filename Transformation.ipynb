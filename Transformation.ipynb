{
 "cells": [
  {
   "cell_type": "code",
   "execution_count": 1,
   "id": "f49d44a7-512d-492d-ac3d-2456624c45d2",
   "metadata": {},
   "outputs": [],
   "source": [
    "import numpy as np\n",
    "import pandas as pd\n",
    "import cv2\n",
    "import os"
   ]
  },
  {
   "cell_type": "code",
   "execution_count": null,
   "id": "d918a84b-72c4-4c61-8069-06559c843edc",
   "metadata": {},
   "outputs": [],
   "source": []
  },
  {
   "cell_type": "markdown",
   "id": "26b548e5-bf2f-412e-aa7c-ee722fb094a6",
   "metadata": {},
   "source": [
    "### translation matrix"
   ]
  },
  {
   "cell_type": "code",
   "execution_count": 5,
   "id": "55c9bfe4-0587-4d44-af54-deb74569d583",
   "metadata": {},
   "outputs": [],
   "source": [
    "img= cv2.imread(r\"C:\\Users\\laksh\\Downloads\\Charmander.jpg\")"
   ]
  },
  {
   "cell_type": "code",
   "execution_count": 7,
   "id": "2a9fc42e-53a4-485a-bbab-15177bb1f230",
   "metadata": {},
   "outputs": [
    {
     "data": {
      "text/plain": [
       "(225, 225, 3)"
      ]
     },
     "execution_count": 7,
     "metadata": {},
     "output_type": "execute_result"
    }
   ],
   "source": [
    "img.shape"
   ]
  },
  {
   "cell_type": "code",
   "execution_count": 10,
   "id": "aa5ec173-7893-48e0-b11b-b753f5a6a223",
   "metadata": {},
   "outputs": [],
   "source": [
    "tx = 10\n",
    "ty =10\n",
    "t_m = np.array([[1,0,tx],[0,1,ty]],dtype = np.float32)\n",
    "\n",
    "t_img = cv2.warpAffine(img,t_m,(1280,874))"
   ]
  },
  {
   "cell_type": "code",
   "execution_count": 12,
   "id": "64aec963-32f1-456b-a7be-ef126033ef02",
   "metadata": {},
   "outputs": [
    {
     "data": {
      "text/plain": [
       "array([[ 1.,  0., 10.],\n",
       "       [ 0.,  1., 10.]], dtype=float32)"
      ]
     },
     "execution_count": 12,
     "metadata": {},
     "output_type": "execute_result"
    }
   ],
   "source": [
    "t_m"
   ]
  },
  {
   "cell_type": "code",
   "execution_count": null,
   "id": "646bd7c9-e577-4e37-950c-969d4c823e6b",
   "metadata": {},
   "outputs": [],
   "source": [
    "cv2.imshow(\"or\",img)\n",
    "cv2.imshow(\"t_m\",t_img)\n",
    "\n",
    "cv2.waitKey()\n",
    "cv2.destroyAllWindows()"
   ]
  },
  {
   "cell_type": "code",
   "execution_count": null,
   "id": "844323f5-4234-4f3e-8798-87574efec932",
   "metadata": {},
   "outputs": [],
   "source": []
  },
  {
   "cell_type": "code",
   "execution_count": 9,
   "id": "0c5fe032-f702-4cff-b679-8c51d4e92d22",
   "metadata": {},
   "outputs": [],
   "source": [
    "tx = 10\n",
    "ty =10\n",
    "t_m = np.array([[1,0,tx],[0,1,ty]],dtype = np.float32)\n",
    "\n",
    "t_img = cv2.warpAffine(img,t_m,(1280,874), borderMode= cv2.BORDER_CONSTANT, borderValue = (0,0,255))\n",
    "t_img1 = cv2.warpAffine(img,t_m,(1280,874), borderMode = cv2.BORDER_REFLECT)"
   ]
  },
  {
   "cell_type": "code",
   "execution_count": 11,
   "id": "a62b4275-50ef-4dfe-b942-275f3ed88349",
   "metadata": {},
   "outputs": [
    {
     "data": {
      "text/plain": [
       "array([[ 1.,  0., 10.],\n",
       "       [ 0.,  1., 10.]], dtype=float32)"
      ]
     },
     "execution_count": 11,
     "metadata": {},
     "output_type": "execute_result"
    }
   ],
   "source": [
    "t_m"
   ]
  },
  {
   "cell_type": "code",
   "execution_count": 13,
   "id": "9f5b624a-95f6-4917-9962-c921cc8763e4",
   "metadata": {},
   "outputs": [],
   "source": [
    "cv2.imshow(\"or\",img)\n",
    "cv2.imshow(\"t_m\",t_img)\n",
    "cv2.imshow(\"t_m1\",t_img1)\n",
    "\n",
    "cv2.waitKey()\n",
    "cv2.destroyAllWindows()"
   ]
  },
  {
   "cell_type": "code",
   "execution_count": null,
   "id": "0ca91c04-f630-4d07-88c1-c9e64a90bae7",
   "metadata": {},
   "outputs": [],
   "source": []
  },
  {
   "cell_type": "markdown",
   "id": "82625d33-eb64-4c64-952d-355bf60e886b",
   "metadata": {},
   "source": [
    "### Rotation matrix"
   ]
  },
  {
   "cell_type": "code",
   "execution_count": 16,
   "id": "0402728d-cc63-482c-8eb2-4162b7747576",
   "metadata": {},
   "outputs": [
    {
     "data": {
      "text/plain": [
       "(225, 225, 3)"
      ]
     },
     "execution_count": 16,
     "metadata": {},
     "output_type": "execute_result"
    }
   ],
   "source": [
    "img.shape"
   ]
  },
  {
   "cell_type": "code",
   "execution_count": 18,
   "id": "2dc3b9fc-e9e1-44ed-b367-a152e1181d64",
   "metadata": {},
   "outputs": [
    {
     "data": {
      "text/plain": [
       "12"
      ]
     },
     "execution_count": 18,
     "metadata": {},
     "output_type": "execute_result"
    }
   ],
   "source": [
    "25//2"
   ]
  },
  {
   "cell_type": "code",
   "execution_count": 20,
   "id": "f5c51fed-e758-4c01-b3b2-414aaf19ca94",
   "metadata": {},
   "outputs": [],
   "source": [
    "r_m = cv2.getRotationMatrix2D((112,112),90,1)"
   ]
  },
  {
   "cell_type": "code",
   "execution_count": 22,
   "id": "ce385468-b924-4f12-899a-a5bac8261ea0",
   "metadata": {},
   "outputs": [
    {
     "data": {
      "text/plain": [
       "array([[ 6.12323400e-17,  1.00000000e+00, -1.42108547e-14],\n",
       "       [-1.00000000e+00,  6.12323400e-17,  2.24000000e+02]])"
      ]
     },
     "execution_count": 22,
     "metadata": {},
     "output_type": "execute_result"
    }
   ],
   "source": [
    "r_m"
   ]
  },
  {
   "cell_type": "code",
   "execution_count": 24,
   "id": "6d15ccb3-b874-4dab-b673-c71c050c513d",
   "metadata": {},
   "outputs": [],
   "source": [
    "r_img = cv2.warpAffine(img, r_m, (1280,874))"
   ]
  },
  {
   "cell_type": "code",
   "execution_count": 26,
   "id": "9280ddda-c5fc-4749-a530-c0b89acfec80",
   "metadata": {},
   "outputs": [],
   "source": [
    "cv2.imshow(\"or\",img)\n",
    "cv2.imshow(\"r_m\",r_img)\n",
    "\n",
    "\n",
    "cv2.waitKey()\n",
    "cv2.destroyAllWindows()"
   ]
  },
  {
   "cell_type": "code",
   "execution_count": null,
   "id": "2df55b8b-c5a9-4926-afbc-ac222caa6dbd",
   "metadata": {},
   "outputs": [],
   "source": []
  },
  {
   "cell_type": "markdown",
   "id": "9b3ee59e-1f78-44f1-b798-8b9cfe96d8e4",
   "metadata": {},
   "source": [
    "### using with cv2.rotation"
   ]
  },
  {
   "cell_type": "code",
   "execution_count": 31,
   "id": "14fdb4c8-e8b9-4e34-a9fb-d574e7f3a597",
   "metadata": {},
   "outputs": [],
   "source": [
    "img1 = cv2.rotate(img,cv2.ROTATE_180)\n",
    "img2 = cv2.rotate(img,cv2.ROTATE_90_CLOCKWISE)\n",
    "img3 = cv2.rotate(img,cv2.ROTATE_90_COUNTERCLOCKWISE)\n",
    "\n",
    "\n",
    "cv2.imshow(\"img\",img)\n",
    "cv2.imshow(\"img1\",img1)\n",
    "cv2.imshow(\"img2\",img2)\n",
    "cv2.imshow(\"img3\",img3)\n",
    "\n",
    "\n",
    "cv2.waitKey()\n",
    "cv2.destroyAllWindows()"
   ]
  },
  {
   "cell_type": "code",
   "execution_count": null,
   "id": "cd9f7ba2-d4f8-4668-8e64-cec8dd680104",
   "metadata": {},
   "outputs": [],
   "source": []
  },
  {
   "cell_type": "markdown",
   "id": "a3631bfe-4181-4dd8-8564-9705e50c506c",
   "metadata": {},
   "source": [
    "### scaling -- zoom in or zoom out"
   ]
  },
  {
   "cell_type": "code",
   "execution_count": 34,
   "id": "9093c843-dbf0-4773-8e2d-19d84a4b527a",
   "metadata": {},
   "outputs": [
    {
     "data": {
      "text/plain": [
       "(225, 225, 3)"
      ]
     },
     "execution_count": 34,
     "metadata": {},
     "output_type": "execute_result"
    }
   ],
   "source": [
    "img.shape"
   ]
  },
  {
   "cell_type": "code",
   "execution_count": 36,
   "id": "2e93d3fd-2ad6-439d-b7a1-8ce594e8595a",
   "metadata": {},
   "outputs": [],
   "source": [
    "sx = 2\n",
    "sy = 2\n",
    "tx = 10\n",
    "ty = 10\n",
    "s_c = np.array([[sx,0,tx],[0,sy,ty]], dtype = np.float32)"
   ]
  },
  {
   "cell_type": "code",
   "execution_count": 38,
   "id": "7b2d306b-67ef-4120-ba6d-93e1d1395dcd",
   "metadata": {},
   "outputs": [],
   "source": [
    "sc_m = cv2.warpAffine(img,s_c,(2*255,2*255))\n",
    "\n",
    "\n",
    "cv2.imshow(\"or\",img)\n",
    "cv2.imshow('sc_m',sc_m)\n",
    "\n",
    "cv2.waitKey()\n",
    "cv2.destroyAllWindows()"
   ]
  },
  {
   "cell_type": "code",
   "execution_count": 40,
   "id": "9f07360b-3aa0-422b-bdc7-07d15eb9a999",
   "metadata": {},
   "outputs": [],
   "source": [
    "cv2.imshow(\"or\",cv2.resize(img,(500,500)))\n",
    "cv2.imshow('sc_m',cv2.resize(sc_m,(50,50)))\n",
    "\n",
    "cv2.waitKey()\n",
    "cv2.destroyAllWindows()"
   ]
  },
  {
   "cell_type": "code",
   "execution_count": null,
   "id": "8b734c6f-891d-4c6f-a2d9-243865f95728",
   "metadata": {},
   "outputs": [],
   "source": []
  },
  {
   "cell_type": "code",
   "execution_count": 42,
   "id": "100c0a5f-f325-4152-b81f-66506d9c993e",
   "metadata": {},
   "outputs": [],
   "source": [
    "zo_o = cv2.pyrDown(img)\n",
    "zo_i = cv2.pyrUp(img)"
   ]
  },
  {
   "cell_type": "code",
   "execution_count": 44,
   "id": "da6ee39a-8704-46fc-b5ec-1971fad67a17",
   "metadata": {},
   "outputs": [],
   "source": [
    "cv2.imshow(\"or\",zo_o)\n",
    "cv2.imshow('sc_m',zo_i)\n",
    "\n",
    "cv2.waitKey()\n",
    "cv2.destroyAllWindows()"
   ]
  },
  {
   "cell_type": "code",
   "execution_count": null,
   "id": "a637d7d0-0ec2-41da-b4f8-e096953895f6",
   "metadata": {},
   "outputs": [],
   "source": []
  },
  {
   "cell_type": "markdown",
   "id": "14420e89-3db9-4cfa-a579-6e27b0e2ec96",
   "metadata": {},
   "source": [
    "### sheering"
   ]
  },
  {
   "cell_type": "code",
   "execution_count": 47,
   "id": "3418a997-6872-45be-938f-f7f32a8f8371",
   "metadata": {},
   "outputs": [],
   "source": [
    "shx = 2\n",
    "shy = 3\n",
    "\n",
    "tx =10\n",
    "ty = 10\n",
    "\n",
    "sh_m = np.array([[1,shx,tx],[shy,1,ty]], dtype = np.float32)"
   ]
  },
  {
   "cell_type": "code",
   "execution_count": null,
   "id": "9c8b5bdb-ccc1-4e4c-a787-45abdbc17060",
   "metadata": {},
   "outputs": [],
   "source": [
    "scal_img =cv2.warpAffine(img,sh_m,(255,255))\n",
    "\n",
    "cv2.imshow(\"or\",img)\n",
    "cv2.imshow('sc_m',scal_img)\n",
    "\n",
    "cv2.waitKey()\n",
    "cv2.destroyAllWindows()"
   ]
  },
  {
   "cell_type": "code",
   "execution_count": null,
   "id": "ce5d4964-025d-4ea5-a9fc-586c843e31a6",
   "metadata": {},
   "outputs": [],
   "source": []
  },
  {
   "cell_type": "code",
   "execution_count": null,
   "id": "e6f6e57e-2574-4929-b0fc-4e54468a0a0a",
   "metadata": {},
   "outputs": [],
   "source": []
  },
  {
   "cell_type": "code",
   "execution_count": null,
   "id": "c53dcaf3-f7d3-49f5-8328-1f65bdf57f32",
   "metadata": {},
   "outputs": [],
   "source": []
  },
  {
   "cell_type": "code",
   "execution_count": null,
   "id": "4645d00d-baed-44d2-b403-bd94cf71ca4c",
   "metadata": {},
   "outputs": [],
   "source": []
  },
  {
   "cell_type": "code",
   "execution_count": null,
   "id": "99aad5ba-5fbb-41ec-8b4c-05eb2617f74c",
   "metadata": {},
   "outputs": [],
   "source": []
  },
  {
   "cell_type": "code",
   "execution_count": null,
   "id": "ea7495a3-36ce-4717-8b96-708a0a55b134",
   "metadata": {},
   "outputs": [],
   "source": []
  },
  {
   "cell_type": "code",
   "execution_count": null,
   "id": "8a96b2e0-8e16-4a9b-81de-a0ec019da2b8",
   "metadata": {},
   "outputs": [],
   "source": []
  },
  {
   "cell_type": "code",
   "execution_count": null,
   "id": "18607275-edcd-4bd6-a0b0-9c4520b51ddf",
   "metadata": {},
   "outputs": [],
   "source": []
  }
 ],
 "metadata": {
  "kernelspec": {
   "display_name": "Python 3 (ipykernel)",
   "language": "python",
   "name": "python3"
  },
  "language_info": {
   "codemirror_mode": {
    "name": "ipython",
    "version": 3
   },
   "file_extension": ".py",
   "mimetype": "text/x-python",
   "name": "python",
   "nbconvert_exporter": "python",
   "pygments_lexer": "ipython3",
   "version": "3.12.4"
  }
 },
 "nbformat": 4,
 "nbformat_minor": 5
}
